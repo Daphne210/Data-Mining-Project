{
 "cells": [
  {
   "cell_type": "code",
   "execution_count": null,
   "id": "ce6eb02d",
   "metadata": {},
   "outputs": [],
   "source": [
    "# Distance matrix\n",
    "distance_matrix = [\n",
    "    [0, 12, 10, 24, 13, 21, 12],  \n",
    "    [12, 0, 8, 12, 11, 17, 17],   \n",
    "    [10, 8, 0, 11, 3, 9, 9],      \n",
    "    [24, 12, 11, 0, 11, 10, 18],  \n",
    "    [13, 11, 3, 11, 0, 6, 7],     \n",
    "    [21, 17, 9, 10, 6, 0, 9],     \n",
    "    [12, 17, 9, 18, 7, 9, 0]      \n",
    "]"
   ]
  },
  {
   "cell_type": "markdown",
   "id": "618e798c",
   "metadata": {},
   "source": [
    "### Branch and Bound Method"
   ]
  },
  {
   "cell_type": "code",
   "execution_count": 17,
   "id": "2a5ec045",
   "metadata": {},
   "outputs": [
    {
     "name": "stdout",
     "output_type": "stream",
     "text": [
      "Minimum distance: 63\n",
      "Path taken: [1, 3, 5, 7, 6, 4, 2, 1]\n"
     ]
    }
   ],
   "source": [
    "import numpy as np\n",
    "\n",
    "class TSPSolver:\n",
    "    def __init__(self, distance_matrix):\n",
    "        self.n = len(distance_matrix)\n",
    "        self.dist = distance_matrix\n",
    "        self.final_res = float('inf')\n",
    "        self.final_path = [None] * (self.n + 1)\n",
    "        self.visited = [False] * self.n\n",
    "    \n",
    "    def copy_to_final(self, curr_path):\n",
    "        self.final_path[:self.n + 1] = curr_path[:]\n",
    "        self.final_path[self.n] = curr_path[0]\n",
    "    \n",
    "    def first_min(self, i):\n",
    "        min_val = float('inf')\n",
    "        for k in range(self.n):\n",
    "            if self.dist[i][k] < min_val and i != k:\n",
    "                min_val = self.dist[i][k]\n",
    "        return min_val\n",
    "    \n",
    "    def second_min(self, i):\n",
    "        first, second = float('inf'), float('inf')\n",
    "        for j in range(self.n):\n",
    "            if i == j:\n",
    "                continue\n",
    "            if self.dist[i][j] <= first:\n",
    "                second = first\n",
    "                first = self.dist[i][j]\n",
    "            elif self.dist[i][j] <= second and self.dist[i][j] != first:\n",
    "                second = self.dist[i][j]\n",
    "        return second\n",
    "    \n",
    "    def tsp_rec(self, curr_bound, curr_weight, level, curr_path):\n",
    "        if level == self.n:\n",
    "            if self.dist[curr_path[level - 1]][curr_path[0]] != 0:\n",
    "                curr_res = curr_weight + self.dist[curr_path[level - 1]][curr_path[0]]\n",
    "                if curr_res < self.final_res:\n",
    "                    self.copy_to_final(curr_path)\n",
    "                    self.final_res = curr_res\n",
    "            return\n",
    "        \n",
    "        for i in range(self.n):\n",
    "            if self.dist[curr_path[level - 1]][i] != 0 and not self.visited[i]:\n",
    "                temp = curr_bound\n",
    "                curr_weight += self.dist[curr_path[level - 1]][i]\n",
    "                if level == 1:\n",
    "                    curr_bound -= ((self.first_min(curr_path[level - 1]) + self.first_min(i)) / 2)\n",
    "                else:\n",
    "                    curr_bound -= ((self.second_min(curr_path[level - 1]) + self.first_min(i)) / 2)\n",
    "                \n",
    "                if curr_bound + curr_weight < self.final_res:\n",
    "                    curr_path[level] = i\n",
    "                    self.visited[i] = True\n",
    "                    self.tsp_rec(curr_bound, curr_weight, level + 1, curr_path)\n",
    "                \n",
    "                curr_weight -= self.dist[curr_path[level - 1]][i]\n",
    "                curr_bound = temp\n",
    "                self.visited = [False] * len(self.visited)\n",
    "                for j in range(level):\n",
    "                    if curr_path[j] != -1:\n",
    "                        self.visited[curr_path[j]] = True\n",
    "    \n",
    "    def tsp(self):\n",
    "        curr_bound = 0\n",
    "        curr_path = [-1] * (self.n + 1)\n",
    "        for i in range(self.n):\n",
    "            curr_bound += (self.first_min(i) + self.second_min(i))\n",
    "        \n",
    "        curr_bound = (curr_bound // 2)\n",
    "        \n",
    "        self.visited[0] = True\n",
    "        curr_path[0] = 0\n",
    "        self.tsp_rec(curr_bound, 0, 1, curr_path)\n",
    "        # Convert the final path to start from 1 instead of 0\n",
    "        final_path_converted = [city + 1 for city in self.final_path]\n",
    "        return self.final_res, final_path_converted\n",
    "\n",
    "solver = TSPSolver(distance_matrix)\n",
    "final_res, final_path = solver.tsp()\n",
    "print(f\"Minimum distance: {final_res}\")\n",
    "print(f\"Path taken: {final_path}\")"
   ]
  },
  {
   "cell_type": "markdown",
   "id": "0e9b51df",
   "metadata": {},
   "source": [
    "### Brute-Force Method"
   ]
  },
  {
   "cell_type": "code",
   "execution_count": 15,
   "id": "9dca6f54",
   "metadata": {},
   "outputs": [
    {
     "name": "stdout",
     "output_type": "stream",
     "text": [
      "Optimal Path: [1, 2, 4, 6, 7, 5, 3, 1]\n",
      "Minimum Distance: 63\n"
     ]
    }
   ],
   "source": [
    "from itertools import permutations\n",
    "\n",
    "# Function to calculate the total distance of a given path\n",
    "def calculate_distance(path):\n",
    "    total_distance = 0\n",
    "    for i in range(len(path) - 1):\n",
    "        total_distance += distance_matrix[path[i]][path[i + 1]]\n",
    "    total_distance += distance_matrix[path[-1]][path[0]]  \n",
    "    return total_distance\n",
    "\n",
    "def find_optimal_path():\n",
    "    min_distance = float('inf')\n",
    "    best_path = None\n",
    "    for perm in permutations(cities[1:]):  \n",
    "        current_path = [0] + list(perm)\n",
    "        current_distance = calculate_distance(current_path)\n",
    "        if current_distance < min_distance:\n",
    "            min_distance = current_distance\n",
    "            best_path = current_path\n",
    "    return best_path, min_distance\n",
    "\n",
    "optimal_path, optimal_distance = find_optimal_path()\n",
    "\n",
    "# Converting city indices to start with 1 and adding city 1 at the end\n",
    "optimal_path_1_based = [city + 1 for city in optimal_path] + [optimal_path[0] + 1]\n",
    "\n",
    "print(f\"Optimal Path: {optimal_path_1_based}\")\n",
    "print(f\"Minimum Distance: {optimal_distance}\")"
   ]
  },
  {
   "cell_type": "markdown",
   "id": "4f00bbd9",
   "metadata": {},
   "source": [
    "### Dynamic Programming (Held-Karp)"
   ]
  },
  {
   "cell_type": "code",
   "execution_count": 10,
   "id": "60713822",
   "metadata": {},
   "outputs": [
    {
     "name": "stdout",
     "output_type": "stream",
     "text": [
      "Optimal Path: [1, 3, 5, 7, 6, 4, 2, 1]\n",
      "Optimal Distance: 63\n"
     ]
    }
   ],
   "source": [
    "from itertools import combinations\n",
    "\n",
    "def held_karp(matrix):\n",
    "    n = len(matrix)\n",
    "    C = {}\n",
    "\n",
    "    # Initializing the distance to start from city 1 (index 0 in the matrix)\n",
    "    for k in range(1, n):\n",
    "        C[(1 << k, k)] = (matrix[0][k], 0)\n",
    "\n",
    "    # Iterating over subsets of increasing size\n",
    "    for subset_size in range(2, n):\n",
    "        for subset in combinations(range(1, n), subset_size):\n",
    "            bits = 0\n",
    "            for bit in subset:\n",
    "                bits |= 1 << bit\n",
    "\n",
    "            for k in subset:\n",
    "                prev_bits = bits & ~(1 << k)\n",
    "                res = []\n",
    "                for m in subset:\n",
    "                    if m == 0 or m == k:\n",
    "                        continue\n",
    "                    res.append((C[(prev_bits, m)][0] + matrix[m][k], m))\n",
    "                C[(bits, k)] = min(res)\n",
    "\n",
    "    # Calculating the optimal path\n",
    "    bits = (2**n - 1) - 1\n",
    "    res = []\n",
    "    for k in range(1, n):\n",
    "        res.append((C[(bits, k)][0] + matrix[k][0], k))\n",
    "    opt, parent = min(res)\n",
    "\n",
    "    # Reconstructing the optimal path\n",
    "    path = []\n",
    "    for i in range(n - 1):\n",
    "        path.append(parent)\n",
    "        bits, parent = bits & ~(1 << parent), C[(bits, parent)][1]\n",
    "    path.append(0)\n",
    "    path = list(reversed(path))\n",
    "    path.append(0)  \n",
    "\n",
    "    return opt, path\n",
    "\n",
    "optimal_distance, optimal_path = held_karp(distance_matrix)\n",
    "print(\"Optimal Path:\", [city + 1 for city in optimal_path])  \n",
    "print(\"Optimal Distance:\", optimal_distance)"
   ]
  },
  {
   "cell_type": "markdown",
   "id": "f073ad4a",
   "metadata": {},
   "source": [
    "### Nearest Neighbor Method"
   ]
  },
  {
   "cell_type": "code",
   "execution_count": 7,
   "id": "de73d7c5",
   "metadata": {},
   "outputs": [],
   "source": [
    "def calculate_distance_nearest(path, matrix):\n",
    "    distance = 0\n",
    "    for i in range(len(path) - 1):\n",
    "        distance += matrix[path[i]][path[i+1]]\n",
    "    return distance"
   ]
  },
  {
   "cell_type": "code",
   "execution_count": 9,
   "id": "1a0c23d2",
   "metadata": {},
   "outputs": [
    {
     "name": "stdout",
     "output_type": "stream",
     "text": [
      "Optimal Path: [1, 3, 5, 6, 7, 2, 4, 1]\n",
      "Optimal Distance: 81\n"
     ]
    }
   ],
   "source": [
    "def nearest_neighbor(matrix, start=0):\n",
    "    n = len(matrix)\n",
    "    visited = [False] * n\n",
    "    path = [start]\n",
    "    visited[start] = True\n",
    "    current = start\n",
    "\n",
    "    while len(path) < n:\n",
    "        next_city = min((matrix[current][j], j) for j in range(n) if not visited[j])[1]\n",
    "        path.append(next_city)\n",
    "        visited[next_city] = True\n",
    "        current = next_city\n",
    "# Returning to city one\n",
    "    path.append(start)  \n",
    "    return path, calculate_distance_nearest(path, matrix)\n",
    "\n",
    "optimal_path, optimal_distance = nearest_neighbor(distance_matrix, start=0)\n",
    "print(\"Optimal Path:\", [city + 1 for city in optimal_path])\n",
    "print(\"Optimal Distance:\", optimal_distance)"
   ]
  },
  {
   "cell_type": "markdown",
   "id": "a4cf6b19",
   "metadata": {},
   "source": [
    "### Self-Organizing Map"
   ]
  },
  {
   "cell_type": "code",
   "execution_count": 7,
   "id": "44cf8e27",
   "metadata": {},
   "outputs": [
    {
     "name": "stdout",
     "output_type": "stream",
     "text": [
      "Sub-Optimal Path: [1, 2, 3, 4, 5, 6, 7, 1]\n",
      "Total Distance of Sub-Optimal Path: 69\n"
     ]
    },
    {
     "data": {
      "image/png": "[encoded data removed]",
      "text/plain": [
       "<Figure size 1000x1000 with 1 Axes>"
      ]
     },
     "metadata": {},
     "output_type": "display_data"
    }
   ],
   "source": [
    "import numpy as np\n",
    "import matplotlib.pyplot as plt\n",
    "\n",
    "# Distance matrix\n",
    "distance_matrix = np.array([\n",
    "    [0, 12, 10, 24, 13, 21, 12],\n",
    "    [12, 0, 8, 12, 11, 17, 17],\n",
    "    [10, 8, 0, 11, 3, 9, 9],\n",
    "    [24, 12, 11, 0, 11, 10, 18],\n",
    "    [13, 11, 3, 11, 0, 6, 7],\n",
    "    [21, 17, 9, 10, 6, 0, 9],\n",
    "    [12, 17, 9, 18, 7, 9, 0]\n",
    "])\n",
    "\n",
    "# City coordinates (for visualization purposes)\n",
    "city_coordinates = np.array([\n",
    "    [0, 0],\n",
    "    [12, 0],\n",
    "    [10, 8],\n",
    "    [24, 12],\n",
    "    [13, 11],\n",
    "    [21, 17],\n",
    "    [12, 17]\n",
    "])\n",
    "\n",
    "city_labels = ['1', '2', '3', '4', '5', '6', '7']\n",
    "\n",
    "class SOM:\n",
    "    def __init__(self, num_nodes, num_cities, learning_rate=0.8, radius=2):\n",
    "        self.num_nodes = num_nodes\n",
    "        self.num_cities = num_cities\n",
    "        self.learning_rate = learning_rate\n",
    "        self.radius = radius\n",
    "        self.nodes = np.random.rand(num_nodes, 2)\n",
    "    \n",
    "    def train(self, city_coordinates, num_iterations=1000):\n",
    "        for iteration in range(num_iterations):\n",
    "            city_index = np.random.randint(0, self.num_cities)\n",
    "            city = city_coordinates[city_index]\n",
    "            \n",
    "            bmu_index = self.find_bmu(city)\n",
    "            \n",
    "            self.update_nodes(city, bmu_index, iteration, num_iterations)\n",
    "    \n",
    "    def find_bmu(self, city):\n",
    "        distances = np.linalg.norm(self.nodes - city, axis=1)\n",
    "        return np.argmin(distances)\n",
    "    \n",
    "    def update_nodes(self, city, bmu_index, iteration, num_iterations):\n",
    "        learning_rate = self.learning_rate * np.exp(-iteration / num_iterations)\n",
    "        radius = self.radius * np.exp(-iteration / num_iterations)\n",
    "        \n",
    "        for i in range(self.num_nodes):\n",
    "            distance_to_bmu = np.linalg.norm(i - bmu_index)\n",
    "            if distance_to_bmu < radius:\n",
    "                influence = np.exp(-distance_to_bmu / (2 * (radius ** 2)))\n",
    "                self.nodes[i] += influence * learning_rate * (city - self.nodes[i])\n",
    "    \n",
    "    def get_path_indices(self, city_coordinates):\n",
    "        path_indices = []\n",
    "        for city in city_coordinates:\n",
    "            bmu_index = self.find_bmu(city)\n",
    "            path_indices.append(np.argmin(np.linalg.norm(city_coordinates - self.nodes[bmu_index], axis=1)))\n",
    "        return path_indices\n",
    "\n",
    "def calculate_path_distance(path_indices, distance_matrix):\n",
    "    distance = 0\n",
    "    for i in range(len(path_indices) - 1):\n",
    "        distance += distance_matrix[path_indices[i], path_indices[i + 1]]\n",
    "    distance += distance_matrix[path_indices[-1], path_indices[0]] \n",
    "    return distance\n",
    "\n",
    "som = SOM(num_nodes=20, num_cities=len(city_coordinates))\n",
    "som.train(city_coordinates)\n",
    "\n",
    "path_indices = som.get_path_indices(city_coordinates)\n",
    "path_indices.append(path_indices[0])  \n",
    "path_distance = calculate_path_distance(path_indices, distance_matrix)\n",
    "\n",
    "path_indices_1_based = [i + 1 for i in path_indices]\n",
    "\n",
    "# Printing the sub-optimal path and its distance\n",
    "print(\"Sub-Optimal Path:\", path_indices_1_based)\n",
    "print(\"Total Distance of Sub-Optimal Path:\", path_distance)\n",
    "\n",
    "# Visualizing the results\n",
    "plt.figure(figsize=(10, 10))\n",
    "plt.scatter(city_coordinates[:, 0], city_coordinates[:, 1], c='red', label='Cities')\n",
    "plt.plot(city_coordinates[:, 0], city_coordinates[:, 1], 'ro')\n",
    "\n",
    "# Adding city labels\n",
    "for i, txt in enumerate(city_labels):\n",
    "    plt.annotate(txt, (city_coordinates[i, 0], city_coordinates[i, 1]), textcoords=\"offset points\", xytext=(0,10), ha='center')\n",
    "\n",
    "for i in range(len(path_indices) - 1):\n",
    "    start_city = city_coordinates[path_indices[i]]\n",
    "    end_city = city_coordinates[path_indices[i + 1]]\n",
    "    plt.plot([start_city[0], end_city[0]], [start_city[1], end_city[1]], 'b-')\n",
    "\n",
    "plt.plot([city_coordinates[path_indices[-1]][0], city_coordinates[path_indices[0]][0]], \n",
    "         [city_coordinates[path_indices[-1]][1], city_coordinates[path_indices[0]][1]], 'b-', label='Path')\n",
    "\n",
    "plt.xlabel('X Coordinates')\n",
    "plt.ylabel('Y Coordinates')\n",
    "plt.title('TSP Path using SOM')\n",
    "plt.legend()\n",
    "plt.show()"
   ]
  },
  {
   "cell_type": "code",
   "execution_count": null,
   "id": "c5a694bd",
   "metadata": {},
   "outputs": [],
   "source": []
  }
 ],
 "metadata": {
  "kernelspec": {
   "display_name": "Python 3 (ipykernel)",
   "language": "python",
   "name": "python3"
  },
  "language_info": {
   "codemirror_mode": {
    "name": "ipython",
    "version": 3
   },
   "file_extension": ".py",
   "mimetype": "text/x-python",
   "name": "python",
   "nbconvert_exporter": "python",
   "pygments_lexer": "ipython3",
   "version": "3.9.13"
  }
 },
 "nbformat": 4,
 "nbformat_minor": 5
}
